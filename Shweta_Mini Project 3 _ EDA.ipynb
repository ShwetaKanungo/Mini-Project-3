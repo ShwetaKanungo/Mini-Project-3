{
 "cells": [
  {
   "cell_type": "markdown",
   "id": "5a3746b7",
   "metadata": {},
   "source": [
    "                                           Mini Project -3 \n",
    "                                                EDA\n",
    "                                               "
   ]
  },
  {
   "cell_type": "code",
   "execution_count": 21,
   "id": "5fcc41b2",
   "metadata": {},
   "outputs": [],
   "source": [
    "import pandas as pd\n",
    "import numpy as np\n",
    "import matplotlib.pyplot as plt\n",
    "import seaborn as sns\n",
    "import warnings\n",
    "warnings.filterwarnings('ignore')\n",
    "%matplotlib inline"
   ]
  },
  {
   "cell_type": "code",
   "execution_count": 4,
   "id": "5e5bf1b3",
   "metadata": {},
   "outputs": [
    {
     "data": {
      "text/html": [
       "<div>\n",
       "<style scoped>\n",
       "    .dataframe tbody tr th:only-of-type {\n",
       "        vertical-align: middle;\n",
       "    }\n",
       "\n",
       "    .dataframe tbody tr th {\n",
       "        vertical-align: top;\n",
       "    }\n",
       "\n",
       "    .dataframe thead th {\n",
       "        text-align: right;\n",
       "    }\n",
       "</style>\n",
       "<table border=\"1\" class=\"dataframe\">\n",
       "  <thead>\n",
       "    <tr style=\"text-align: right;\">\n",
       "      <th></th>\n",
       "      <th>POS</th>\n",
       "      <th>Player</th>\n",
       "      <th>Mat</th>\n",
       "      <th>Inns</th>\n",
       "      <th>NO</th>\n",
       "      <th>Runs</th>\n",
       "      <th>HS</th>\n",
       "      <th>Avg</th>\n",
       "      <th>BF</th>\n",
       "      <th>SR</th>\n",
       "      <th>100</th>\n",
       "      <th>50</th>\n",
       "      <th>4s</th>\n",
       "      <th>6s</th>\n",
       "    </tr>\n",
       "  </thead>\n",
       "  <tbody>\n",
       "    <tr>\n",
       "      <th>0</th>\n",
       "      <td>1</td>\n",
       "      <td>KL Rahul</td>\n",
       "      <td>14</td>\n",
       "      <td>14</td>\n",
       "      <td>2</td>\n",
       "      <td>670</td>\n",
       "      <td>132*</td>\n",
       "      <td>55.83</td>\n",
       "      <td>518</td>\n",
       "      <td>129.34</td>\n",
       "      <td>1</td>\n",
       "      <td>5</td>\n",
       "      <td>58</td>\n",
       "      <td>23</td>\n",
       "    </tr>\n",
       "    <tr>\n",
       "      <th>1</th>\n",
       "      <td>2</td>\n",
       "      <td>Shikhar Dhawan</td>\n",
       "      <td>17</td>\n",
       "      <td>17</td>\n",
       "      <td>3</td>\n",
       "      <td>618</td>\n",
       "      <td>106*</td>\n",
       "      <td>44.14</td>\n",
       "      <td>427</td>\n",
       "      <td>144.73</td>\n",
       "      <td>2</td>\n",
       "      <td>4</td>\n",
       "      <td>67</td>\n",
       "      <td>12</td>\n",
       "    </tr>\n",
       "    <tr>\n",
       "      <th>2</th>\n",
       "      <td>3</td>\n",
       "      <td>David Warner</td>\n",
       "      <td>16</td>\n",
       "      <td>16</td>\n",
       "      <td>2</td>\n",
       "      <td>548</td>\n",
       "      <td>85*</td>\n",
       "      <td>39.14</td>\n",
       "      <td>407</td>\n",
       "      <td>134.64</td>\n",
       "      <td>0</td>\n",
       "      <td>4</td>\n",
       "      <td>52</td>\n",
       "      <td>14</td>\n",
       "    </tr>\n",
       "    <tr>\n",
       "      <th>3</th>\n",
       "      <td>4</td>\n",
       "      <td>Shreyas Iyer</td>\n",
       "      <td>17</td>\n",
       "      <td>17</td>\n",
       "      <td>2</td>\n",
       "      <td>519</td>\n",
       "      <td>88*</td>\n",
       "      <td>34.60</td>\n",
       "      <td>421</td>\n",
       "      <td>123.27</td>\n",
       "      <td>0</td>\n",
       "      <td>3</td>\n",
       "      <td>40</td>\n",
       "      <td>16</td>\n",
       "    </tr>\n",
       "    <tr>\n",
       "      <th>4</th>\n",
       "      <td>5</td>\n",
       "      <td>Ishan Kishan</td>\n",
       "      <td>14</td>\n",
       "      <td>13</td>\n",
       "      <td>4</td>\n",
       "      <td>516</td>\n",
       "      <td>99</td>\n",
       "      <td>57.33</td>\n",
       "      <td>354</td>\n",
       "      <td>145.76</td>\n",
       "      <td>0</td>\n",
       "      <td>4</td>\n",
       "      <td>36</td>\n",
       "      <td>30</td>\n",
       "    </tr>\n",
       "  </tbody>\n",
       "</table>\n",
       "</div>"
      ],
      "text/plain": [
       "   POS          Player  Mat  Inns  NO  Runs    HS    Avg   BF      SR  100  \\\n",
       "0    1        KL Rahul   14    14   2   670  132*  55.83  518  129.34    1   \n",
       "1    2  Shikhar Dhawan   17    17   3   618  106*  44.14  427  144.73    2   \n",
       "2    3    David Warner   16    16   2   548   85*  39.14  407  134.64    0   \n",
       "3    4    Shreyas Iyer   17    17   2   519   88*  34.60  421  123.27    0   \n",
       "4    5    Ishan Kishan   14    13   4   516    99  57.33  354  145.76    0   \n",
       "\n",
       "   50  4s  6s  \n",
       "0   5  58  23  \n",
       "1   4  67  12  \n",
       "2   4  52  14  \n",
       "3   3  40  16  \n",
       "4   4  36  30  "
      ]
     },
     "execution_count": 4,
     "metadata": {},
     "output_type": "execute_result"
    }
   ],
   "source": [
    "Shweta = pd.read_csv('IPL_Dataset.csv')\n",
    "Shweta.head()"
   ]
  },
  {
   "cell_type": "code",
   "execution_count": 22,
   "id": "71aa80f8",
   "metadata": {},
   "outputs": [],
   "source": [
    "#Q1. What is the maximum number of matches played by an individual player in a season?"
   ]
  },
  {
   "cell_type": "code",
   "execution_count": 21,
   "id": "d9435169",
   "metadata": {
    "scrolled": true
   },
   "outputs": [
    {
     "name": "stdout",
     "output_type": "stream",
     "text": [
      "The maximum number of matches played by an individual player in a season is 17.\n"
     ]
    }
   ],
   "source": [
    "\n",
    "max_matches_played = Shweta['Mat'].max()\n",
    "print(f\"The maximum number of matches played by an individual player in a season is {max_matches_played}.\")\n"
   ]
  },
  {
   "cell_type": "code",
   "execution_count": 23,
   "id": "e641ea41",
   "metadata": {},
   "outputs": [],
   "source": [
    "#Q2. What is the highest average of a player in a season?"
   ]
  },
  {
   "cell_type": "code",
   "execution_count": 25,
   "id": "6cf6522e",
   "metadata": {},
   "outputs": [
    {
     "name": "stdout",
     "output_type": "stream",
     "text": [
      "The highest average of a player in a season is 101.0.\n"
     ]
    }
   ],
   "source": [
    "highest_average=Shweta['Avg'].max()\n",
    "print(f\"The highest average of a player in a season is {highest_average}.\")"
   ]
  },
  {
   "cell_type": "code",
   "execution_count": 26,
   "id": "ea174251",
   "metadata": {},
   "outputs": [],
   "source": [
    "#Q3. What is the average number of matches played by the players in a season?"
   ]
  },
  {
   "cell_type": "code",
   "execution_count": 30,
   "id": "f8a21e9a",
   "metadata": {},
   "outputs": [
    {
     "name": "stdout",
     "output_type": "stream",
     "text": [
      "The average number of matches played by the players in a season is 9.6.\n"
     ]
    }
   ],
   "source": [
    "Avg_Matches=Shweta['Mat'].mean()\n",
    "print(f\"The average number of matches played by the players in a season is {Avg_Matches:.1f}.\")"
   ]
  },
  {
   "cell_type": "code",
   "execution_count": 31,
   "id": "e64b1c72",
   "metadata": {},
   "outputs": [],
   "source": [
    "#Q4. Please check the correlation between all the features."
   ]
  },
  {
   "cell_type": "code",
   "execution_count": 36,
   "id": "acfa2e7a",
   "metadata": {},
   "outputs": [
    {
     "name": "stdout",
     "output_type": "stream",
     "text": [
      "           POS       Mat      Inns        NO      Runs       Avg        BF  \\\n",
      "POS   1.000000 -0.556695 -0.916174 -0.386247 -0.896664 -0.746510 -0.891969   \n",
      "Mat  -0.556695  1.000000  0.728358  0.555261  0.565237  0.306128  0.555102   \n",
      "Inns -0.916174  0.728358  1.000000  0.464356  0.895914  0.585148  0.889753   \n",
      "NO   -0.386247  0.555261  0.464356  1.000000  0.308747  0.429888  0.271021   \n",
      "Runs -0.896664  0.565237  0.895914  0.308747  1.000000  0.687475  0.989948   \n",
      "Avg  -0.746510  0.306128  0.585148  0.429888  0.687475  1.000000  0.664173   \n",
      "BF   -0.891969  0.555102  0.889753  0.271021  0.989948  0.664173  1.000000   \n",
      "SR   -0.730489  0.371328  0.581468  0.415060  0.517678  0.591306  0.474226   \n",
      "100  -0.248353  0.128405  0.224328  0.019726  0.382577  0.233726  0.358550   \n",
      "50   -0.769577  0.455437  0.755027  0.174184  0.912264  0.638326  0.900547   \n",
      "4s   -0.846965  0.522628  0.846749  0.204779  0.959576  0.623643  0.955994   \n",
      "6s   -0.808756  0.523367  0.810922  0.391472  0.861166  0.646224  0.810916   \n",
      "\n",
      "            SR       100        50        4s        6s  \n",
      "POS  -0.730489 -0.248353 -0.769577 -0.846965 -0.808756  \n",
      "Mat   0.371328  0.128405  0.455437  0.522628  0.523367  \n",
      "Inns  0.581468  0.224328  0.755027  0.846749  0.810922  \n",
      "NO    0.415060  0.019726  0.174184  0.204779  0.391472  \n",
      "Runs  0.517678  0.382577  0.912264  0.959576  0.861166  \n",
      "Avg   0.591306  0.233726  0.638326  0.623643  0.646224  \n",
      "BF    0.474226  0.358550  0.900547  0.955994  0.810916  \n",
      "SR    1.000000  0.135331  0.406029  0.465132  0.566317  \n",
      "100   0.135331  1.000000  0.292812  0.456622  0.186767  \n",
      "50    0.406029  0.292812  1.000000  0.892025  0.757501  \n",
      "4s    0.465132  0.456622  0.892025  1.000000  0.731094  \n",
      "6s    0.566317  0.186767  0.757501  0.731094  1.000000  \n"
     ]
    }
   ],
   "source": [
    "Correlation_features=Shweta.corr()\n",
    "print(Correlation_features)"
   ]
  },
  {
   "cell_type": "code",
   "execution_count": 37,
   "id": "de8f2236",
   "metadata": {},
   "outputs": [
    {
     "data": {
      "text/html": [
       "<style type=\"text/css\">\n",
       "#T_5dfa0 th {\n",
       "  font-weight: bold;\n",
       "}\n",
       "</style>\n",
       "<table id=\"T_5dfa0\">\n",
       "  <thead>\n",
       "    <tr>\n",
       "      <th class=\"blank level0\" >&nbsp;</th>\n",
       "      <th id=\"T_5dfa0_level0_col0\" class=\"col_heading level0 col0\" >POS</th>\n",
       "      <th id=\"T_5dfa0_level0_col1\" class=\"col_heading level0 col1\" >Mat</th>\n",
       "      <th id=\"T_5dfa0_level0_col2\" class=\"col_heading level0 col2\" >Inns</th>\n",
       "      <th id=\"T_5dfa0_level0_col3\" class=\"col_heading level0 col3\" >NO</th>\n",
       "      <th id=\"T_5dfa0_level0_col4\" class=\"col_heading level0 col4\" >Runs</th>\n",
       "      <th id=\"T_5dfa0_level0_col5\" class=\"col_heading level0 col5\" >Avg</th>\n",
       "      <th id=\"T_5dfa0_level0_col6\" class=\"col_heading level0 col6\" >BF</th>\n",
       "      <th id=\"T_5dfa0_level0_col7\" class=\"col_heading level0 col7\" >SR</th>\n",
       "      <th id=\"T_5dfa0_level0_col8\" class=\"col_heading level0 col8\" >100</th>\n",
       "      <th id=\"T_5dfa0_level0_col9\" class=\"col_heading level0 col9\" >50</th>\n",
       "      <th id=\"T_5dfa0_level0_col10\" class=\"col_heading level0 col10\" >4s</th>\n",
       "      <th id=\"T_5dfa0_level0_col11\" class=\"col_heading level0 col11\" >6s</th>\n",
       "    </tr>\n",
       "  </thead>\n",
       "  <tbody>\n",
       "    <tr>\n",
       "      <th id=\"T_5dfa0_level0_row0\" class=\"row_heading level0 row0\" >POS</th>\n",
       "      <td id=\"T_5dfa0_row0_col0\" class=\"data row0 col0\" >1.000000</td>\n",
       "      <td id=\"T_5dfa0_row0_col1\" class=\"data row0 col1\" >-0.556695</td>\n",
       "      <td id=\"T_5dfa0_row0_col2\" class=\"data row0 col2\" >-0.916174</td>\n",
       "      <td id=\"T_5dfa0_row0_col3\" class=\"data row0 col3\" >-0.386247</td>\n",
       "      <td id=\"T_5dfa0_row0_col4\" class=\"data row0 col4\" >-0.896664</td>\n",
       "      <td id=\"T_5dfa0_row0_col5\" class=\"data row0 col5\" >-0.746510</td>\n",
       "      <td id=\"T_5dfa0_row0_col6\" class=\"data row0 col6\" >-0.891969</td>\n",
       "      <td id=\"T_5dfa0_row0_col7\" class=\"data row0 col7\" >-0.730489</td>\n",
       "      <td id=\"T_5dfa0_row0_col8\" class=\"data row0 col8\" >-0.248353</td>\n",
       "      <td id=\"T_5dfa0_row0_col9\" class=\"data row0 col9\" >-0.769577</td>\n",
       "      <td id=\"T_5dfa0_row0_col10\" class=\"data row0 col10\" >-0.846965</td>\n",
       "      <td id=\"T_5dfa0_row0_col11\" class=\"data row0 col11\" >-0.808756</td>\n",
       "    </tr>\n",
       "    <tr>\n",
       "      <th id=\"T_5dfa0_level0_row1\" class=\"row_heading level0 row1\" >Mat</th>\n",
       "      <td id=\"T_5dfa0_row1_col0\" class=\"data row1 col0\" >-0.556695</td>\n",
       "      <td id=\"T_5dfa0_row1_col1\" class=\"data row1 col1\" >1.000000</td>\n",
       "      <td id=\"T_5dfa0_row1_col2\" class=\"data row1 col2\" >0.728358</td>\n",
       "      <td id=\"T_5dfa0_row1_col3\" class=\"data row1 col3\" >0.555261</td>\n",
       "      <td id=\"T_5dfa0_row1_col4\" class=\"data row1 col4\" >0.565237</td>\n",
       "      <td id=\"T_5dfa0_row1_col5\" class=\"data row1 col5\" >0.306128</td>\n",
       "      <td id=\"T_5dfa0_row1_col6\" class=\"data row1 col6\" >0.555102</td>\n",
       "      <td id=\"T_5dfa0_row1_col7\" class=\"data row1 col7\" >0.371328</td>\n",
       "      <td id=\"T_5dfa0_row1_col8\" class=\"data row1 col8\" >0.128405</td>\n",
       "      <td id=\"T_5dfa0_row1_col9\" class=\"data row1 col9\" >0.455437</td>\n",
       "      <td id=\"T_5dfa0_row1_col10\" class=\"data row1 col10\" >0.522628</td>\n",
       "      <td id=\"T_5dfa0_row1_col11\" class=\"data row1 col11\" >0.523367</td>\n",
       "    </tr>\n",
       "    <tr>\n",
       "      <th id=\"T_5dfa0_level0_row2\" class=\"row_heading level0 row2\" >Inns</th>\n",
       "      <td id=\"T_5dfa0_row2_col0\" class=\"data row2 col0\" >-0.916174</td>\n",
       "      <td id=\"T_5dfa0_row2_col1\" class=\"data row2 col1\" >0.728358</td>\n",
       "      <td id=\"T_5dfa0_row2_col2\" class=\"data row2 col2\" >1.000000</td>\n",
       "      <td id=\"T_5dfa0_row2_col3\" class=\"data row2 col3\" >0.464356</td>\n",
       "      <td id=\"T_5dfa0_row2_col4\" class=\"data row2 col4\" >0.895914</td>\n",
       "      <td id=\"T_5dfa0_row2_col5\" class=\"data row2 col5\" >0.585148</td>\n",
       "      <td id=\"T_5dfa0_row2_col6\" class=\"data row2 col6\" >0.889753</td>\n",
       "      <td id=\"T_5dfa0_row2_col7\" class=\"data row2 col7\" >0.581468</td>\n",
       "      <td id=\"T_5dfa0_row2_col8\" class=\"data row2 col8\" >0.224328</td>\n",
       "      <td id=\"T_5dfa0_row2_col9\" class=\"data row2 col9\" >0.755027</td>\n",
       "      <td id=\"T_5dfa0_row2_col10\" class=\"data row2 col10\" >0.846749</td>\n",
       "      <td id=\"T_5dfa0_row2_col11\" class=\"data row2 col11\" >0.810922</td>\n",
       "    </tr>\n",
       "    <tr>\n",
       "      <th id=\"T_5dfa0_level0_row3\" class=\"row_heading level0 row3\" >NO</th>\n",
       "      <td id=\"T_5dfa0_row3_col0\" class=\"data row3 col0\" >-0.386247</td>\n",
       "      <td id=\"T_5dfa0_row3_col1\" class=\"data row3 col1\" >0.555261</td>\n",
       "      <td id=\"T_5dfa0_row3_col2\" class=\"data row3 col2\" >0.464356</td>\n",
       "      <td id=\"T_5dfa0_row3_col3\" class=\"data row3 col3\" >1.000000</td>\n",
       "      <td id=\"T_5dfa0_row3_col4\" class=\"data row3 col4\" >0.308747</td>\n",
       "      <td id=\"T_5dfa0_row3_col5\" class=\"data row3 col5\" >0.429888</td>\n",
       "      <td id=\"T_5dfa0_row3_col6\" class=\"data row3 col6\" >0.271021</td>\n",
       "      <td id=\"T_5dfa0_row3_col7\" class=\"data row3 col7\" >0.415060</td>\n",
       "      <td id=\"T_5dfa0_row3_col8\" class=\"data row3 col8\" >0.019726</td>\n",
       "      <td id=\"T_5dfa0_row3_col9\" class=\"data row3 col9\" >0.174184</td>\n",
       "      <td id=\"T_5dfa0_row3_col10\" class=\"data row3 col10\" >0.204779</td>\n",
       "      <td id=\"T_5dfa0_row3_col11\" class=\"data row3 col11\" >0.391472</td>\n",
       "    </tr>\n",
       "    <tr>\n",
       "      <th id=\"T_5dfa0_level0_row4\" class=\"row_heading level0 row4\" >Runs</th>\n",
       "      <td id=\"T_5dfa0_row4_col0\" class=\"data row4 col0\" >-0.896664</td>\n",
       "      <td id=\"T_5dfa0_row4_col1\" class=\"data row4 col1\" >0.565237</td>\n",
       "      <td id=\"T_5dfa0_row4_col2\" class=\"data row4 col2\" >0.895914</td>\n",
       "      <td id=\"T_5dfa0_row4_col3\" class=\"data row4 col3\" >0.308747</td>\n",
       "      <td id=\"T_5dfa0_row4_col4\" class=\"data row4 col4\" >1.000000</td>\n",
       "      <td id=\"T_5dfa0_row4_col5\" class=\"data row4 col5\" >0.687475</td>\n",
       "      <td id=\"T_5dfa0_row4_col6\" class=\"data row4 col6\" >0.989948</td>\n",
       "      <td id=\"T_5dfa0_row4_col7\" class=\"data row4 col7\" >0.517678</td>\n",
       "      <td id=\"T_5dfa0_row4_col8\" class=\"data row4 col8\" >0.382577</td>\n",
       "      <td id=\"T_5dfa0_row4_col9\" class=\"data row4 col9\" >0.912264</td>\n",
       "      <td id=\"T_5dfa0_row4_col10\" class=\"data row4 col10\" >0.959576</td>\n",
       "      <td id=\"T_5dfa0_row4_col11\" class=\"data row4 col11\" >0.861166</td>\n",
       "    </tr>\n",
       "    <tr>\n",
       "      <th id=\"T_5dfa0_level0_row5\" class=\"row_heading level0 row5\" >Avg</th>\n",
       "      <td id=\"T_5dfa0_row5_col0\" class=\"data row5 col0\" >-0.746510</td>\n",
       "      <td id=\"T_5dfa0_row5_col1\" class=\"data row5 col1\" >0.306128</td>\n",
       "      <td id=\"T_5dfa0_row5_col2\" class=\"data row5 col2\" >0.585148</td>\n",
       "      <td id=\"T_5dfa0_row5_col3\" class=\"data row5 col3\" >0.429888</td>\n",
       "      <td id=\"T_5dfa0_row5_col4\" class=\"data row5 col4\" >0.687475</td>\n",
       "      <td id=\"T_5dfa0_row5_col5\" class=\"data row5 col5\" >1.000000</td>\n",
       "      <td id=\"T_5dfa0_row5_col6\" class=\"data row5 col6\" >0.664173</td>\n",
       "      <td id=\"T_5dfa0_row5_col7\" class=\"data row5 col7\" >0.591306</td>\n",
       "      <td id=\"T_5dfa0_row5_col8\" class=\"data row5 col8\" >0.233726</td>\n",
       "      <td id=\"T_5dfa0_row5_col9\" class=\"data row5 col9\" >0.638326</td>\n",
       "      <td id=\"T_5dfa0_row5_col10\" class=\"data row5 col10\" >0.623643</td>\n",
       "      <td id=\"T_5dfa0_row5_col11\" class=\"data row5 col11\" >0.646224</td>\n",
       "    </tr>\n",
       "    <tr>\n",
       "      <th id=\"T_5dfa0_level0_row6\" class=\"row_heading level0 row6\" >BF</th>\n",
       "      <td id=\"T_5dfa0_row6_col0\" class=\"data row6 col0\" >-0.891969</td>\n",
       "      <td id=\"T_5dfa0_row6_col1\" class=\"data row6 col1\" >0.555102</td>\n",
       "      <td id=\"T_5dfa0_row6_col2\" class=\"data row6 col2\" >0.889753</td>\n",
       "      <td id=\"T_5dfa0_row6_col3\" class=\"data row6 col3\" >0.271021</td>\n",
       "      <td id=\"T_5dfa0_row6_col4\" class=\"data row6 col4\" >0.989948</td>\n",
       "      <td id=\"T_5dfa0_row6_col5\" class=\"data row6 col5\" >0.664173</td>\n",
       "      <td id=\"T_5dfa0_row6_col6\" class=\"data row6 col6\" >1.000000</td>\n",
       "      <td id=\"T_5dfa0_row6_col7\" class=\"data row6 col7\" >0.474226</td>\n",
       "      <td id=\"T_5dfa0_row6_col8\" class=\"data row6 col8\" >0.358550</td>\n",
       "      <td id=\"T_5dfa0_row6_col9\" class=\"data row6 col9\" >0.900547</td>\n",
       "      <td id=\"T_5dfa0_row6_col10\" class=\"data row6 col10\" >0.955994</td>\n",
       "      <td id=\"T_5dfa0_row6_col11\" class=\"data row6 col11\" >0.810916</td>\n",
       "    </tr>\n",
       "    <tr>\n",
       "      <th id=\"T_5dfa0_level0_row7\" class=\"row_heading level0 row7\" >SR</th>\n",
       "      <td id=\"T_5dfa0_row7_col0\" class=\"data row7 col0\" >-0.730489</td>\n",
       "      <td id=\"T_5dfa0_row7_col1\" class=\"data row7 col1\" >0.371328</td>\n",
       "      <td id=\"T_5dfa0_row7_col2\" class=\"data row7 col2\" >0.581468</td>\n",
       "      <td id=\"T_5dfa0_row7_col3\" class=\"data row7 col3\" >0.415060</td>\n",
       "      <td id=\"T_5dfa0_row7_col4\" class=\"data row7 col4\" >0.517678</td>\n",
       "      <td id=\"T_5dfa0_row7_col5\" class=\"data row7 col5\" >0.591306</td>\n",
       "      <td id=\"T_5dfa0_row7_col6\" class=\"data row7 col6\" >0.474226</td>\n",
       "      <td id=\"T_5dfa0_row7_col7\" class=\"data row7 col7\" >1.000000</td>\n",
       "      <td id=\"T_5dfa0_row7_col8\" class=\"data row7 col8\" >0.135331</td>\n",
       "      <td id=\"T_5dfa0_row7_col9\" class=\"data row7 col9\" >0.406029</td>\n",
       "      <td id=\"T_5dfa0_row7_col10\" class=\"data row7 col10\" >0.465132</td>\n",
       "      <td id=\"T_5dfa0_row7_col11\" class=\"data row7 col11\" >0.566317</td>\n",
       "    </tr>\n",
       "    <tr>\n",
       "      <th id=\"T_5dfa0_level0_row8\" class=\"row_heading level0 row8\" >100</th>\n",
       "      <td id=\"T_5dfa0_row8_col0\" class=\"data row8 col0\" >-0.248353</td>\n",
       "      <td id=\"T_5dfa0_row8_col1\" class=\"data row8 col1\" >0.128405</td>\n",
       "      <td id=\"T_5dfa0_row8_col2\" class=\"data row8 col2\" >0.224328</td>\n",
       "      <td id=\"T_5dfa0_row8_col3\" class=\"data row8 col3\" >0.019726</td>\n",
       "      <td id=\"T_5dfa0_row8_col4\" class=\"data row8 col4\" >0.382577</td>\n",
       "      <td id=\"T_5dfa0_row8_col5\" class=\"data row8 col5\" >0.233726</td>\n",
       "      <td id=\"T_5dfa0_row8_col6\" class=\"data row8 col6\" >0.358550</td>\n",
       "      <td id=\"T_5dfa0_row8_col7\" class=\"data row8 col7\" >0.135331</td>\n",
       "      <td id=\"T_5dfa0_row8_col8\" class=\"data row8 col8\" >1.000000</td>\n",
       "      <td id=\"T_5dfa0_row8_col9\" class=\"data row8 col9\" >0.292812</td>\n",
       "      <td id=\"T_5dfa0_row8_col10\" class=\"data row8 col10\" >0.456622</td>\n",
       "      <td id=\"T_5dfa0_row8_col11\" class=\"data row8 col11\" >0.186767</td>\n",
       "    </tr>\n",
       "    <tr>\n",
       "      <th id=\"T_5dfa0_level0_row9\" class=\"row_heading level0 row9\" >50</th>\n",
       "      <td id=\"T_5dfa0_row9_col0\" class=\"data row9 col0\" >-0.769577</td>\n",
       "      <td id=\"T_5dfa0_row9_col1\" class=\"data row9 col1\" >0.455437</td>\n",
       "      <td id=\"T_5dfa0_row9_col2\" class=\"data row9 col2\" >0.755027</td>\n",
       "      <td id=\"T_5dfa0_row9_col3\" class=\"data row9 col3\" >0.174184</td>\n",
       "      <td id=\"T_5dfa0_row9_col4\" class=\"data row9 col4\" >0.912264</td>\n",
       "      <td id=\"T_5dfa0_row9_col5\" class=\"data row9 col5\" >0.638326</td>\n",
       "      <td id=\"T_5dfa0_row9_col6\" class=\"data row9 col6\" >0.900547</td>\n",
       "      <td id=\"T_5dfa0_row9_col7\" class=\"data row9 col7\" >0.406029</td>\n",
       "      <td id=\"T_5dfa0_row9_col8\" class=\"data row9 col8\" >0.292812</td>\n",
       "      <td id=\"T_5dfa0_row9_col9\" class=\"data row9 col9\" >1.000000</td>\n",
       "      <td id=\"T_5dfa0_row9_col10\" class=\"data row9 col10\" >0.892025</td>\n",
       "      <td id=\"T_5dfa0_row9_col11\" class=\"data row9 col11\" >0.757501</td>\n",
       "    </tr>\n",
       "    <tr>\n",
       "      <th id=\"T_5dfa0_level0_row10\" class=\"row_heading level0 row10\" >4s</th>\n",
       "      <td id=\"T_5dfa0_row10_col0\" class=\"data row10 col0\" >-0.846965</td>\n",
       "      <td id=\"T_5dfa0_row10_col1\" class=\"data row10 col1\" >0.522628</td>\n",
       "      <td id=\"T_5dfa0_row10_col2\" class=\"data row10 col2\" >0.846749</td>\n",
       "      <td id=\"T_5dfa0_row10_col3\" class=\"data row10 col3\" >0.204779</td>\n",
       "      <td id=\"T_5dfa0_row10_col4\" class=\"data row10 col4\" >0.959576</td>\n",
       "      <td id=\"T_5dfa0_row10_col5\" class=\"data row10 col5\" >0.623643</td>\n",
       "      <td id=\"T_5dfa0_row10_col6\" class=\"data row10 col6\" >0.955994</td>\n",
       "      <td id=\"T_5dfa0_row10_col7\" class=\"data row10 col7\" >0.465132</td>\n",
       "      <td id=\"T_5dfa0_row10_col8\" class=\"data row10 col8\" >0.456622</td>\n",
       "      <td id=\"T_5dfa0_row10_col9\" class=\"data row10 col9\" >0.892025</td>\n",
       "      <td id=\"T_5dfa0_row10_col10\" class=\"data row10 col10\" >1.000000</td>\n",
       "      <td id=\"T_5dfa0_row10_col11\" class=\"data row10 col11\" >0.731094</td>\n",
       "    </tr>\n",
       "    <tr>\n",
       "      <th id=\"T_5dfa0_level0_row11\" class=\"row_heading level0 row11\" >6s</th>\n",
       "      <td id=\"T_5dfa0_row11_col0\" class=\"data row11 col0\" >-0.808756</td>\n",
       "      <td id=\"T_5dfa0_row11_col1\" class=\"data row11 col1\" >0.523367</td>\n",
       "      <td id=\"T_5dfa0_row11_col2\" class=\"data row11 col2\" >0.810922</td>\n",
       "      <td id=\"T_5dfa0_row11_col3\" class=\"data row11 col3\" >0.391472</td>\n",
       "      <td id=\"T_5dfa0_row11_col4\" class=\"data row11 col4\" >0.861166</td>\n",
       "      <td id=\"T_5dfa0_row11_col5\" class=\"data row11 col5\" >0.646224</td>\n",
       "      <td id=\"T_5dfa0_row11_col6\" class=\"data row11 col6\" >0.810916</td>\n",
       "      <td id=\"T_5dfa0_row11_col7\" class=\"data row11 col7\" >0.566317</td>\n",
       "      <td id=\"T_5dfa0_row11_col8\" class=\"data row11 col8\" >0.186767</td>\n",
       "      <td id=\"T_5dfa0_row11_col9\" class=\"data row11 col9\" >0.757501</td>\n",
       "      <td id=\"T_5dfa0_row11_col10\" class=\"data row11 col10\" >0.731094</td>\n",
       "      <td id=\"T_5dfa0_row11_col11\" class=\"data row11 col11\" >1.000000</td>\n",
       "    </tr>\n",
       "  </tbody>\n",
       "</table>\n"
      ],
      "text/plain": [
       "<pandas.io.formats.style.Styler at 0x16516b23010>"
      ]
     },
     "execution_count": 37,
     "metadata": {},
     "output_type": "execute_result"
    }
   ],
   "source": [
    "\n",
    "Correlation_features = Shweta.corr()\n",
    "\n",
    "styled_corr_matrix = Correlation_features.style.set_table_styles([{'selector': 'th', 'props': [('font-weight', 'bold')]}])\n",
    "\n",
    "styled_corr_matrix\n"
   ]
  },
  {
   "cell_type": "code",
   "execution_count": 38,
   "id": "15265656",
   "metadata": {},
   "outputs": [],
   "source": [
    "#Q5. Check the list of players who has an average greater than 50 as well strike rate above 120."
   ]
  },
  {
   "cell_type": "code",
   "execution_count": 11,
   "id": "68c34940",
   "metadata": {},
   "outputs": [
    {
     "name": "stdout",
     "output_type": "stream",
     "text": [
      "List of players with average > 50 and strike rate > 120:\n",
      "             Player     Avg      SR\n",
      "0          KL Rahul   55.83  129.34\n",
      "4      Ishan Kishan   57.33  145.76\n",
      "31   Kieron Pollard   53.60  191.42\n",
      "36  Wriddhiman Saha   71.33  139.86\n",
      "37  Ruturaj Gaikwad   51.00  120.71\n",
      "57     Deepak Hooda  101.00  142.25\n",
      "60       Tom Curran   83.00  133.87\n"
     ]
    }
   ],
   "source": [
    "Average=Shweta[(Shweta['Avg']> 50) & (Shweta['SR']>120)]\n",
    "print(\"List of players with average > 50 and strike rate > 120:\")\n",
    "print(Average[['Player', 'Avg', 'SR']])"
   ]
  },
  {
   "cell_type": "code",
   "execution_count": 12,
   "id": "f62d2994",
   "metadata": {},
   "outputs": [],
   "source": [
    "#Q6. Please check the list of players who have an average greater than 40 and balls faced above 100."
   ]
  },
  {
   "cell_type": "code",
   "execution_count": 13,
   "id": "a5c1df67",
   "metadata": {},
   "outputs": [
    {
     "name": "stdout",
     "output_type": "stream",
     "text": [
      "list of players who have an average greater than 40 and balls faced above 100:\n",
      "             Player    Avg   BF\n",
      "0          KL Rahul  55.83  518\n",
      "1    Shikhar Dhawan  44.14  427\n",
      "4      Ishan Kishan  57.33  354\n",
      "8       Virat Kohli  42.36  384\n",
      "9    AB de Villiers  45.40  286\n",
      "10   Faf du Plessis  40.81  319\n",
      "14      Eoin Morgan  41.80  302\n",
      "24  Kane Williamson  45.28  237\n",
      "27      Chris Gayle  41.14  210\n",
      "28       Ben Stokes  40.71  200\n",
      "31   Kieron Pollard  53.60  140\n",
      "32    Rahul Tewatia  42.50  183\n",
      "33  Ravindra Jadeja  46.40  135\n",
      "36  Wriddhiman Saha  71.33  153\n",
      "37  Ruturaj Gaikwad  51.00  169\n"
     ]
    }
   ],
   "source": [
    "Average_and_balls=Shweta[(Shweta['Avg']>40) & (Shweta['BF']>100)]\n",
    "print(\"list of players who have an average greater than 40 and balls faced above 100:\")\n",
    "print(Average_and_balls[['Player', 'Avg', 'BF']])"
   ]
  },
  {
   "cell_type": "code",
   "execution_count": 22,
   "id": "1d5db4b1",
   "metadata": {},
   "outputs": [],
   "source": [
    "#Q7. Please check the list of players who scored more than 300 runs with an average greater than 45 and strike rate above 130."
   ]
  },
  {
   "cell_type": "code",
   "execution_count": 14,
   "id": "25a546a3",
   "metadata": {},
   "outputs": [
    {
     "name": "stdout",
     "output_type": "stream",
     "text": [
      "The list of players who scored more than 300 runs with an average greater than 45 and strike rate above 130:\n",
      "             Player  Runs    Avg      SR\n",
      "4      Ishan Kishan   516  57.33  145.76\n",
      "9    AB de Villiers   454  45.40  158.74\n",
      "24  Kane Williamson   317  45.28  133.75\n"
     ]
    }
   ],
   "source": [
    "list_of_players=Shweta[(Shweta['Runs']>300) & (Shweta['Avg']>45) & (Shweta['SR']>130)]\n",
    "print(\"The list of players who scored more than 300 runs with an average greater than 45 and strike rate above 130:\")\n",
    "print(list_of_players[['Player', 'Runs', 'Avg', 'SR']])"
   ]
  },
  {
   "cell_type": "code",
   "execution_count": 20,
   "id": "e8683355",
   "metadata": {},
   "outputs": [],
   "source": [
    "#Q8. Players who scored at least one century in this season.\n"
   ]
  },
  {
   "cell_type": "code",
   "execution_count": 19,
   "id": "ee1e4f12",
   "metadata": {},
   "outputs": [
    {
     "name": "stdout",
     "output_type": "stream",
     "text": [
      "Players who scored at least one century in this season:\n",
      "            Player  100\n",
      "0         KL Rahul    1\n",
      "1   Shikhar Dhawan    2\n",
      "13  Mayank Agarwal    1\n",
      "28      Ben Stokes    1\n"
     ]
    }
   ],
   "source": [
    "Players_century=Shweta[(Shweta['100']>=1)]\n",
    "print(\"Players who scored at least one century in this season:\")\n",
    "print(Players_century[['Player', '100']])"
   ]
  },
  {
   "cell_type": "code",
   "execution_count": 25,
   "id": "b9164970",
   "metadata": {},
   "outputs": [],
   "source": [
    "#Q9. Players who scored at least 4 half centuries in this season."
   ]
  },
  {
   "cell_type": "code",
   "execution_count": 23,
   "id": "1d19868c",
   "metadata": {},
   "outputs": [
    {
     "name": "stdout",
     "output_type": "stream",
     "text": [
      "Players who scored at least 4 half centuries in this season:\n",
      "              Player  50\n",
      "0           KL Rahul   5\n",
      "1     Shikhar Dhawan   4\n",
      "2       David Warner   4\n",
      "4       Ishan Kishan   4\n",
      "5    Quinton de Kock   4\n",
      "6   Suryakumar Yadav   4\n",
      "7   Devdutt Padikkal   5\n",
      "9     AB de Villiers   5\n",
      "10    Faf du Plessis   4\n"
     ]
    }
   ],
   "source": [
    "Players_half_century=Shweta[(Shweta['50']>=4)]\n",
    "print(\"Players who scored at least 4 half centuries in this season:\")\n",
    "print(Players_half_century[['Player','50']])"
   ]
  },
  {
   "cell_type": "code",
   "execution_count": 24,
   "id": "2db7419b",
   "metadata": {},
   "outputs": [],
   "source": [
    "#Q10. Check the list of players who hit more than 45 boundaries and more than 10 sixes in this season."
   ]
  },
  {
   "cell_type": "code",
   "execution_count": 26,
   "id": "a424c90a",
   "metadata": {},
   "outputs": [
    {
     "name": "stdout",
     "output_type": "stream",
     "text": [
      "list of players who hit more than 45 boundaries and more than 10 sixes in this season:\n",
      "             Player  4s  6s\n",
      "0          KL Rahul  58  23\n",
      "1    Shikhar Dhawan  67  12\n",
      "2      David Warner  52  14\n",
      "5   Quinton de Kock  46  22\n",
      "6  Suryakumar Yadav  61  11\n"
     ]
    }
   ],
   "source": [
    "boundaries=Shweta[(Shweta['4s']>45) & (Shweta['6s']>10)]\n",
    "print(\"list of players who hit more than 45 boundaries and more than 10 sixes in this season:\")\n",
    "print(boundaries[['Player', '4s', '6s']])"
   ]
  },
  {
   "cell_type": "code",
   "execution_count": 27,
   "id": "a92a4565",
   "metadata": {},
   "outputs": [],
   "source": [
    "#Q11. Plot a histogram of the number of matches played in a season by players."
   ]
  },
  {
   "cell_type": "code",
   "execution_count": 30,
   "id": "25b11d8a",
   "metadata": {},
   "outputs": [
    {
     "data": {
      "text/plain": [
       "Text(0, 0.5, 'Frequency')"
      ]
     },
     "execution_count": 30,
     "metadata": {},
     "output_type": "execute_result"
    },
    {
     "data": {
      "image/png": "[encoded data removed]",
      "text/plain": [
       "<Figure size 640x480 with 1 Axes>"
      ]
     },
     "metadata": {},
     "output_type": "display_data"
    }
   ],
   "source": [
    "plt.hist(Shweta['Mat'], bins=15, edgecolor= 'red')\n",
    "plt.title('The Number of Matches Played in a Season')\n",
    "plt.xlabel('No. of matches')\n",
    "plt.ylabel('Frequency')"
   ]
  },
  {
   "cell_type": "code",
   "execution_count": 31,
   "id": "9a7b7d81",
   "metadata": {},
   "outputs": [],
   "source": [
    "#Q12. Plot the histogram of balls faced by players."
   ]
  },
  {
   "cell_type": "code",
   "execution_count": 34,
   "id": "cfb9bf86",
   "metadata": {},
   "outputs": [
    {
     "data": {
      "text/plain": [
       "Text(0, 0.5, 'Frequency')"
      ]
     },
     "execution_count": 34,
     "metadata": {},
     "output_type": "execute_result"
    },
    {
     "data": {
      "image/png": "[encoded data removed]",
      "text/plain": [
       "<Figure size 640x480 with 1 Axes>"
      ]
     },
     "metadata": {},
     "output_type": "display_data"
    }
   ],
   "source": [
    "plt.hist(Shweta['BF'], bins=10, edgecolor= 'yellow')\n",
    "plt.title('The Number of balls faced by players')\n",
    "plt.xlabel('No. of balls')\n",
    "plt.ylabel('Frequency')"
   ]
  },
  {
   "cell_type": "code",
   "execution_count": 35,
   "id": "a3af30e2",
   "metadata": {},
   "outputs": [],
   "source": [
    "#Q13. Top 20 players with the most runs in a season."
   ]
  },
  {
   "cell_type": "code",
   "execution_count": 36,
   "id": "55f3f81a",
   "metadata": {},
   "outputs": [
    {
     "name": "stdout",
     "output_type": "stream",
     "text": [
      "Top 20 players with the most runs in a season\n",
      "              Player  Runs\n",
      "0           KL Rahul   670\n",
      "1     Shikhar Dhawan   618\n",
      "2       David Warner   548\n",
      "3       Shreyas Iyer   519\n",
      "4       Ishan Kishan   516\n",
      "5    Quinton de Kock   503\n",
      "6   Suryakumar Yadav   480\n",
      "7   Devdutt Padikkal   473\n",
      "8        Virat Kohli   466\n",
      "9     AB de Villiers   454\n",
      "10    Faf du Plessis   449\n",
      "11      Shubman Gill   440\n",
      "12     Manish Pandey   425\n",
      "13    Mayank Agarwal   424\n",
      "14       Eoin Morgan   418\n",
      "15      Sanju Samson   375\n",
      "16     Ambati Rayudu   359\n",
      "17   Nicholas Pooran   353\n",
      "18       Nitish Rana   352\n",
      "19    Marcus Stoinis   352\n"
     ]
    }
   ],
   "source": [
    "most_runs=Shweta.nlargest(20, 'Runs')\n",
    "print(\"Top 20 players with the most runs in a season\")\n",
    "print(most_runs[['Player', 'Runs']])"
   ]
  },
  {
   "cell_type": "code",
   "execution_count": 37,
   "id": "5cdf9a9d",
   "metadata": {},
   "outputs": [],
   "source": [
    "#Q14. Bar chart for the top 20 players with the best strike rate in a season."
   ]
  },
  {
   "cell_type": "code",
   "execution_count": 39,
   "id": "61c4c1d5",
   "metadata": {},
   "outputs": [
    {
     "data": {
      "image/png": "[encoded data removed]",
      "text/plain": [
       "<Figure size 640x480 with 1 Axes>"
      ]
     },
     "metadata": {},
     "output_type": "display_data"
    }
   ],
   "source": [
    "top_strike_rate_players = Shweta.nlargest(20, 'SR')\n",
    "plt.bar(top_strike_rate_players['Player'], top_strike_rate_players['SR'])\n",
    "plt.xticks(rotation=90)\n",
    "plt.title('Top 20 Players with the Best Strike Rate in a Season')\n",
    "plt.xlabel('Player')\n",
    "plt.ylabel('SR')\n",
    "plt.show()\n"
   ]
  },
  {
   "cell_type": "code",
   "execution_count": 40,
   "id": "b190be66",
   "metadata": {},
   "outputs": [],
   "source": [
    "#Q15. Top 30 players with the highest number of sixes."
   ]
  },
  {
   "cell_type": "code",
   "execution_count": 41,
   "id": "1ca1a538",
   "metadata": {},
   "outputs": [
    {
     "name": "stdout",
     "output_type": "stream",
     "text": [
      "Top 30 players with the highest number of sixes:\n",
      "              Player  6s\n",
      "4       Ishan Kishan  30\n",
      "15      Sanju Samson  26\n",
      "17   Nicholas Pooran  25\n",
      "29     Hardik Pandya  25\n",
      "14       Eoin Morgan  24\n",
      "0           KL Rahul  23\n",
      "9     AB de Villiers  23\n",
      "27       Chris Gayle  23\n",
      "5    Quinton de Kock  22\n",
      "31    Kieron Pollard  22\n",
      "22      Rohit Sharma  19\n",
      "12     Manish Pandey  18\n",
      "32     Rahul Tewatia  17\n",
      "3       Shreyas Iyer  16\n",
      "19    Marcus Stoinis  16\n",
      "23       Jos Buttler  16\n",
      "13    Mayank Agarwal  15\n",
      "2       David Warner  14\n",
      "10    Faf du Plessis  14\n",
      "20    Jonny Bairstow  13\n",
      "26      Shane Watson  13\n",
      "1     Shikhar Dhawan  12\n",
      "16     Ambati Rayudu  12\n",
      "18       Nitish Rana  12\n",
      "40        Sam Curran  12\n",
      "41   Shimron Hetmyer  12\n",
      "6   Suryakumar Yadav  11\n",
      "8        Virat Kohli  11\n",
      "33   Ravindra Jadeja  11\n",
      "24   Kane Williamson  10\n"
     ]
    }
   ],
   "source": [
    "top_six_hitters = Shweta.nlargest(30, '6s')\n",
    "print(\"Top 30 players with the highest number of sixes:\")\n",
    "print(top_six_hitters[['Player', '6s']])\n"
   ]
  },
  {
   "cell_type": "code",
   "execution_count": 42,
   "id": "cdbfca22",
   "metadata": {},
   "outputs": [],
   "source": [
    "#Q16. Scatter plot of runs scored by a player vs. balls faced in a season."
   ]
  },
  {
   "cell_type": "code",
   "execution_count": 51,
   "id": "7eeb3a1d",
   "metadata": {},
   "outputs": [
    {
     "data": {
      "image/png": "[encoded data removed]",
      "text/plain": [
       "<Figure size 640x480 with 1 Axes>"
      ]
     },
     "metadata": {},
     "output_type": "display_data"
    }
   ],
   "source": [
    "plt.scatter(Shweta['Runs'], Shweta['BF'], alpha=0.5, edgecolor='yellow')\n",
    "plt.title('Scatter Plot of Runs vs. Balls Faced by Players')\n",
    "plt.xlabel('Runs')\n",
    "plt.ylabel('BF')\n",
    "plt.show()\n"
   ]
  },
  {
   "cell_type": "code",
   "execution_count": null,
   "id": "da621e0d",
   "metadata": {},
   "outputs": [],
   "source": []
  },
  {
   "cell_type": "code",
   "execution_count": 48,
   "id": "b3b9ab1f",
   "metadata": {},
   "outputs": [],
   "source": [
    "#Q17. KDE plot for averages in a season."
   ]
  },
  {
   "cell_type": "code",
   "execution_count": 50,
   "id": "2b0db288",
   "metadata": {},
   "outputs": [
    {
     "data": {
      "image/png": "[encoded data removed]",
      "text/plain": [
       "<Figure size 640x480 with 1 Axes>"
      ]
     },
     "metadata": {},
     "output_type": "display_data"
    }
   ],
   "source": [
    "import seaborn as sns\n",
    "\n",
    "sns.kdeplot(Shweta['Avg'], fill=True, edgecolor='red')\n",
    "plt.title('Kernel Density Estimate (KDE) Plot for Averages in a Season')\n",
    "plt.xlabel('Avg')\n",
    "plt.ylabel('Density')\n",
    "plt.show()\n"
   ]
  },
  {
   "cell_type": "markdown",
   "id": "79068919",
   "metadata": {},
   "source": [
    "                                    "
   ]
  },
  {
   "cell_type": "markdown",
   "id": "4e2d2436",
   "metadata": {},
   "source": [
    "                              Prepared and Submitted by: Shweta Kanungo"
   ]
  },
  {
   "cell_type": "markdown",
   "id": "6a9af62c",
   "metadata": {},
   "source": [
    "                               "
   ]
  }
 ],
 "metadata": {
  "kernelspec": {
   "display_name": "Python 3 (ipykernel)",
   "language": "python",
   "name": "python3"
  },
  "language_info": {
   "codemirror_mode": {
    "name": "ipython",
    "version": 3
   },
   "file_extension": ".py",
   "mimetype": "text/x-python",
   "name": "python",
   "nbconvert_exporter": "python",
   "pygments_lexer": "ipython3",
   "version": "3.11.4"
  }
 },
 "nbformat": 4,
 "nbformat_minor": 5
}
